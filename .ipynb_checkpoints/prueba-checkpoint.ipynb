{
 "cells": [
  {
   "cell_type": "markdown",
   "id": "c086d3d4-b273-4178-a88a-71682b4d3833",
   "metadata": {},
   "source": [
    "https://docs.google.com/document/d/1qRk9Jh-7qOCXHb26179xZiIeE4WyBWuKvgKuTT4Qvbo/edit?tab=t.0"
   ]
  },
  {
   "cell_type": "code",
   "execution_count": 24,
   "id": "3340b600-df4b-44ea-bb07-90d99a080324",
   "metadata": {
    "tags": []
   },
   "outputs": [
    {
     "name": "stdin",
     "output_type": "stream",
     "text": [
      "Enter the source currency code:  USD\n",
      "Enter the target currency code:  EUR\n",
      "Enter the amount to convert:  100\n"
     ]
    },
    {
     "name": "stdout",
     "output_type": "stream",
     "text": [
      "100.0 USD is equal to 96.74601774 EUR\n"
     ]
    }
   ],
   "source": [
    "import requests\n",
    "import json\n",
    "api_key = 'fca_live_DciePP460ewj5uCIzQWjLqVRtkGXz95ft915eYDS'\n",
    "source_currency = input(\"Enter the source currency code: \").upper()\n",
    "target_currency = input(\"Enter the target currency code: \").upper()\n",
    "amount = float(input(\"Enter the amount to convert: \"))\n",
    "url = f'https://api.freecurrencyapi.com/v1/latest?apikey=fca_live_DciePP460ewj5uCIzQWjLqVRtkGXz95ft915eYDS&base_currency={source_currency}&currencies={target_currency}'\n",
    "\n",
    "try:\n",
    "    response = requests.get(url)\n",
    "    if response.status_code == 200:\n",
    "        data = response.json()\n",
    "        converted_amount = data.get('data').get(target_currency)\n",
    "        if converted_amount:\n",
    "            print(f'{amount} {source_currency} is equal to {converted_amount*amount} {target_currency}')\n",
    "        else:\n",
    "            print('Conversion data not found in the API response.')\n",
    "            print(data)\n",
    "    else:\n",
    "        print(f'Failed to retrieve data. Status code: {response.status_code}')\n",
    "\n",
    "except requests.exceptions.RequestException as e:\n",
    "    print(f'An error occurred: {e}')"
   ]
  },
  {
   "cell_type": "code",
   "execution_count": 59,
   "id": "afdae99d-9c65-4b31-925b-1c78a20ac76e",
   "metadata": {
    "tags": []
   },
   "outputs": [],
   "source": [
    "import requests\n",
    "import json\n",
    "\n",
    "option=1\n",
    "def consulta():\n",
    "    url = f'https://api.freecurrencyapi.com/v1/latest?apikey=fca_live_DciePP460ewj5uCIzQWjLqVRtkGXz95ft915eYDS&base_currency={source_currency}&currencies={target_currency}'\n",
    "    try:\n",
    "        response = requests.get(url)\n",
    "        if response.status_code == 200:\n",
    "            data = response.json()\n",
    "            converted_amount = data.get('data').get(target_currency)\n",
    "            if converted_amount:\n",
    "                print(f'{amount} {source_currency} is equal to {converted_amount*amount} {target_currency}')\n",
    "            else:\n",
    "                print('Conversion data not found in the API response.')\n",
    "                print(data)\n",
    "        else:\n",
    "            print(f'Failed to retrieve data. Status code: {response.status_code}')\n",
    "\n",
    "    except requests.exceptions.RequestException as e:\n",
    "        print(f'An error occurred: {e}')\n",
    "def listado():\n",
    "    url = f'https://api.freecurrencyapi.com/v1/latest?apikey=fca_live_DciePP460ewj5uCIzQWjLqVRtkGXz95ft915eYDS'\n",
    "    try:\n",
    "        response = requests.get(url)\n",
    "        if response.status_code == 200:\n",
    "            data = response.json()\n",
    "            converted_amount = data.get('data')\n",
    "            if converted_amount:\n",
    "                print(\"List:\")\n",
    "                for x in converted_amount:\n",
    "                    print(x+\": \"+str(converted_amount[x]))\n",
    "            else:\n",
    "                print('Conversion data not found in the API response.')\n",
    "                print(data)\n",
    "        else:\n",
    "            print(f'Failed to retrieve data. Status code: {response.status_code}')\n",
    "\n",
    "    except requests.exceptions.RequestException as e:\n",
    "        print(f'An error occurred: {e}')\n",
    "def solicitudDeDatos():\n",
    "    option = input(\"Enter the selected option 1:comvert, 2:list, 3:exit: \").upper()\n",
    "    source_currency = input(\"Enter the source currency code: \").upper()\n",
    "    target_currency = input(\"Enter the target currency code: \").upper()\n",
    "    amount = float(input(\"Enter the amount to convert: \"))\n",
    "\n"
   ]
  },
  {
   "cell_type": "code",
   "execution_count": null,
   "id": "6c1eb08d-2d45-46be-9ad8-97adf3c56e97",
   "metadata": {
    "tags": []
   },
   "outputs": [
    {
     "name": "stdin",
     "output_type": "stream",
     "text": [
      "Enter the selected option 1:comvert, 2:list, 3:exit:  2\n"
     ]
    },
    {
     "name": "stdout",
     "output_type": "stream",
     "text": [
      "List:\n",
      "AUD: 1.5944102365\n",
      "BGN: 1.8868103588\n",
      "BRL: 5.8041308579\n",
      "CAD: 1.4286801807\n",
      "CHF: 0.908890146\n",
      "CNY: 7.2863812169\n",
      "CZK: 24.3009442697\n",
      "DKK: 7.2224909524\n",
      "EUR: 0.9676501007\n",
      "GBP: 0.8062501036\n",
      "HKD: 7.7882713429\n",
      "HRK: 6.8253008404\n",
      "HUF: 391.8585392044\n",
      "IDR: 16251.100698903\n",
      "ILS: 3.5566804236\n",
      "INR: 87.5652240538\n",
      "ISK: 141.9451749476\n",
      "JPY: 151.3928232809\n",
      "KRW: 1451.5163205697\n",
      "MXN: 20.5690533001\n",
      "MYR: 4.438100705\n",
      "NOK: 11.2378412524\n",
      "NZD: 1.765950316\n",
      "PHP: 58.1056401015\n",
      "PLN: 4.0550304762\n",
      "RON: 4.803910918\n",
      "RUB: 97.2208791856\n",
      "SEK: 10.9354120737\n",
      "SGD: 1.35337016\n",
      "THB: 33.8708167383\n",
      "TRY: 35.9843941083\n",
      "USD: 1\n",
      "ZAR: 18.3496918396\n"
     ]
    }
   ],
   "source": [
    "option='1'\n",
    "while option!='3':\n",
    "    #solicitudDeDatos()\n",
    "    option = input(\"Enter the selected option 1:comvert, 2:list, 3:exit: \")\n",
    "    if option == '1':\n",
    "        source_currency = input(\"Enter the source currency code: \").upper()\n",
    "        target_currency = input(\"Enter the target currency code: \").upper()\n",
    "        amount = float(input(\"Enter the amount to convert: \"))\n",
    "        consulta()\n",
    "    elif option == '2':\n",
    "        listado()\n",
    "    elif option == '3':\n",
    "        print(\"bye\")\n",
    "    else:\n",
    "        print(\"this option is not defined\")"
   ]
  },
  {
   "cell_type": "code",
   "execution_count": null,
   "id": "94d37c97-2561-49c8-b228-ca4c5271122e",
   "metadata": {},
   "outputs": [],
   "source": []
  }
 ],
 "metadata": {
  "kernelspec": {
   "display_name": "Python 3 (ipykernel)",
   "language": "python",
   "name": "python3"
  },
  "language_info": {
   "codemirror_mode": {
    "name": "ipython",
    "version": 3
   },
   "file_extension": ".py",
   "mimetype": "text/x-python",
   "name": "python",
   "nbconvert_exporter": "python",
   "pygments_lexer": "ipython3",
   "version": "3.11.5"
  }
 },
 "nbformat": 4,
 "nbformat_minor": 5
}
