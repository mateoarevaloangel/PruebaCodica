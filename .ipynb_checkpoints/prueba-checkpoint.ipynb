{
 "cells": [
  {
   "cell_type": "markdown",
   "id": "c086d3d4-b273-4178-a88a-71682b4d3833",
   "metadata": {},
   "source": [
    "https://docs.google.com/document/d/1qRk9Jh-7qOCXHb26179xZiIeE4WyBWuKvgKuTT4Qvbo/edit?tab=t.0"
   ]
  },
  {
   "cell_type": "code",
   "execution_count": 3,
   "id": "3340b600-df4b-44ea-bb07-90d99a080324",
   "metadata": {
    "tags": []
   },
   "outputs": [
    {
     "name": "stdin",
     "output_type": "stream",
     "text": [
      "Enter the source currency code:  usd\n",
      "Enter the target currency code:  eur\n",
      "Enter the amount to convert:  10\n"
     ]
    },
    {
     "name": "stdout",
     "output_type": "stream",
     "text": [
      "10.0 USD is equal to 9.696101273 EUR\n"
     ]
    }
   ],
   "source": [
    "import requests\n",
    "import json\n",
    "api_key = 'fca_live_DciePP460ewj5uCIzQWjLqVRtkGXz95ft915eYDS'\n",
    "source_currency = input(\"Enter the source currency code: \").upper()\n",
    "target_currency = input(\"Enter the target currency code: \").upper()\n",
    "amount = float(input(\"Enter the amount to convert: \"))\n",
    "url = f'https://api.freecurrencyapi.com/v1/latest?apikey=fca_live_DciePP460ewj5uCIzQWjLqVRtkGXz95ft915eYDS&base_currency={source_currency}&currencies={target_currency}'\n",
    "\n",
    "try:\n",
    "    response = requests.get(url)\n",
    "    if response.status_code == 200:\n",
    "        data = response.json()\n",
    "        converted_amount = data.get('data').get(target_currency)\n",
    "        if converted_amount:\n",
    "            print(f'{amount} {source_currency} is equal to {converted_amount*amount} {target_currency}')\n",
    "        else:\n",
    "            print('Conversion data not found in the API response.')\n",
    "            print(data)\n",
    "    else:\n",
    "        print(f'Failed to retrieve data. Status code: {response.status_code}')\n",
    "\n",
    "except requests.exceptions.RequestException as e:\n",
    "    print(f'An error occurred: {e}')"
   ]
  },
  {
   "cell_type": "code",
   "execution_count": 9,
   "id": "afdae99d-9c65-4b31-925b-1c78a20ac76e",
   "metadata": {
    "tags": []
   },
   "outputs": [],
   "source": [
    "import requests\n",
    "import json\n",
    "#Se crea una variable para guardar el historial de conversiones \n",
    "historial=[]\n",
    "#esta funcion hace la consultado del indice de cambio de las monedas seleccionadas y pinta en pantalla el resultado\n",
    "def consulta():\n",
    "    url = f'https://api.freecurrencyapi.com/v1/latest?apikey=fca_live_DciePP460ewj5uCIzQWjLqVRtkGXz95ft915eYDS&base_currency={source_currency}&currencies={target_currency}'\n",
    "    try:\n",
    "        #consulta al servicio API\n",
    "        response = requests.get(url)\n",
    "        if response.status_code == 200:\n",
    "            data = response.json()\n",
    "            converted_amount = data.get('data').get(target_currency)\n",
    "            if converted_amount:\n",
    "                guardado(f'{amount} {source_currency} is equal to {converted_amount*amount} {target_currency}')\n",
    "                #pinta el resultado\n",
    "                print(f'{amount} {source_currency} is equal to {converted_amount*amount} {target_currency}')\n",
    "            else:\n",
    "                print('Conversion data not found in the API response.')\n",
    "                print(data)\n",
    "        else:\n",
    "            print(f'Failed to retrieve data. Status code: {response.status_code}')\n",
    "\n",
    "    except requests.exceptions.RequestException as e:\n",
    "        print(f'An error occurred: {e}')\n",
    "\n",
    "def guardado(x):\n",
    "    historial.append(x)  \n",
    "\n",
    "def verHistorial():\n",
    "    print(historial)\n",
    "\n",
    "def listado():\n",
    "    url = f'https://api.freecurrencyapi.com/v1/latest?apikey=fca_live_DciePP460ewj5uCIzQWjLqVRtkGXz95ft915eYDS'\n",
    "    try:\n",
    "        response = requests.get(url)\n",
    "        if response.status_code == 200:\n",
    "            data = response.json()\n",
    "            converted_amount = data.get('data')\n",
    "            if converted_amount:\n",
    "                print(\"List:\")\n",
    "                for x in converted_amount:\n",
    "                    print(x+\": \"+str(converted_amount[x]))\n",
    "            else:\n",
    "                print('Conversion data not found in the API response.')\n",
    "                print(data)\n",
    "        else:\n",
    "            print(f'Failed to retrieve data. Status code: {response.status_code}')\n",
    "\n",
    "    except requests.exceptions.RequestException as e:\n",
    "        print(f'An error occurred: {e}')\n",
    "\n"
   ]
  },
  {
   "cell_type": "code",
   "execution_count": 11,
   "id": "6c1eb08d-2d45-46be-9ad8-97adf3c56e97",
   "metadata": {
    "tags": []
   },
   "outputs": [
    {
     "name": "stdin",
     "output_type": "stream",
     "text": [
      "Enter the selected option 1:comvert, 2:list, 3:view history, 4:exit:  1\n",
      "Enter the source currency code:  usd\n",
      "Enter the target currency code:  eur\n",
      "Enter the amount to convert:  12\n"
     ]
    },
    {
     "name": "stdout",
     "output_type": "stream",
     "text": [
      "12.0 USD is equal to 11.635321527599999 EUR\n"
     ]
    },
    {
     "name": "stdin",
     "output_type": "stream",
     "text": [
      "Enter the selected option 1:comvert, 2:list, 3:view history, 4:exit:  3\n"
     ]
    },
    {
     "name": "stdout",
     "output_type": "stream",
     "text": [
      "['12.0 USD is equal to 11.635321527599999 EUR']\n"
     ]
    },
    {
     "name": "stdin",
     "output_type": "stream",
     "text": [
      "Enter the selected option 1:comvert, 2:list, 3:view history, 4:exit:  1\n",
      "Enter the source currency code:  usd\n",
      "Enter the target currency code:  eur\n",
      "Enter the amount to convert:  30\n"
     ]
    },
    {
     "name": "stdout",
     "output_type": "stream",
     "text": [
      "30.0 USD is equal to 29.088303819 EUR\n"
     ]
    },
    {
     "name": "stdin",
     "output_type": "stream",
     "text": [
      "Enter the selected option 1:comvert, 2:list, 3:view history, 4:exit:  3\n"
     ]
    },
    {
     "name": "stdout",
     "output_type": "stream",
     "text": [
      "['12.0 USD is equal to 11.635321527599999 EUR', '30.0 USD is equal to 29.088303819 EUR']\n"
     ]
    },
    {
     "name": "stdin",
     "output_type": "stream",
     "text": [
      "Enter the selected option 1:comvert, 2:list, 3:view history, 4:exit:  2\n"
     ]
    },
    {
     "name": "stdout",
     "output_type": "stream",
     "text": [
      "List:\n",
      "AUD: 1.5975303011\n",
      "BGN: 1.8885202901\n",
      "BRL: 5.808711064\n",
      "CAD: 1.4328601517\n",
      "CHF: 0.9107101491\n",
      "CNY: 7.2873313667\n",
      "CZK: 24.2948236713\n",
      "DKK: 7.2334410944\n",
      "EUR: 0.9696101273\n",
      "GBP: 0.8069801268\n",
      "HKD: 7.7898515434\n",
      "HRK: 6.8314708275\n",
      "HUF: 392.4830640367\n",
      "IDR: 16254.168679254\n",
      "ILS: 3.561950686\n",
      "INR: 87.5765766931\n",
      "ISK: 142.0734718348\n",
      "JPY: 151.8088625977\n",
      "KRW: 1451.7146333597\n",
      "MXN: 20.5931320639\n",
      "MYR: 4.4395105725\n",
      "NOK: 11.2627612578\n",
      "NZD: 1.7708502282\n",
      "PHP: 58.1073175733\n",
      "PLN: 4.0630004952\n",
      "RON: 4.8156905687\n",
      "RUB: 97.2522575513\n",
      "SEK: 10.9745920099\n",
      "SGD: 1.3562201567\n",
      "THB: 33.8878661046\n",
      "TRY: 35.9785836036\n",
      "USD: 1\n",
      "ZAR: 18.5201628399\n"
     ]
    },
    {
     "name": "stdin",
     "output_type": "stream",
     "text": [
      "Enter the selected option 1:comvert, 2:list, 3:view history, 4:exit:  4\n"
     ]
    },
    {
     "name": "stdout",
     "output_type": "stream",
     "text": [
      "this option is not defined\n"
     ]
    }
   ],
   "source": [
    "option='1'\n",
    "while option!='4':\n",
    "    option = input(\"Enter the selected option 1:comvert, 2:list, 3:view history, 4:exit: \")\n",
    "    if option == '1':\n",
    "        source_currency = input(\"Enter the source currency code: \").upper()\n",
    "        target_currency = input(\"Enter the target currency code: \").upper()\n",
    "        amount = float(input(\"Enter the amount to convert: \"))\n",
    "        consulta()\n",
    "    elif option == '2':\n",
    "        listado()\n",
    "    elif option == '3':\n",
    "        verHistorial()\n",
    "    elif option == '4':\n",
    "        print('bye')\n",
    "    else:\n",
    "        print(\"this option is not defined\")"
   ]
  },
  {
   "cell_type": "code",
   "execution_count": null,
   "id": "94d37c97-2561-49c8-b228-ca4c5271122e",
   "metadata": {},
   "outputs": [],
   "source": []
  }
 ],
 "metadata": {
  "kernelspec": {
   "display_name": "Python 3 (ipykernel)",
   "language": "python",
   "name": "python3"
  },
  "language_info": {
   "codemirror_mode": {
    "name": "ipython",
    "version": 3
   },
   "file_extension": ".py",
   "mimetype": "text/x-python",
   "name": "python",
   "nbconvert_exporter": "python",
   "pygments_lexer": "ipython3",
   "version": "3.12.3"
  }
 },
 "nbformat": 4,
 "nbformat_minor": 5
}
